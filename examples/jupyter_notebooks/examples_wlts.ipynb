{
 "cells": [
  {
   "cell_type": "markdown",
   "metadata": {},
   "source": [
    "# <span style=\"color:#336699\">Web Land Trajectory Service - Python Client API [<img src=\"../img/bdc-logo.png\" alt=\"Brazil Data Cube - Python Sample Client\" style=\"height:100px;\" align=\"right\">](https://github.com/brazil-data-cube/sample.py)</span>\n",
    "\n",
    "\n",
    "\n",
    "<hr style=\"border:2px solid #0077b9;\">\n",
    "\n",
    "# <span style=\"color:#336699\"> Examples o WLTS.py</span> "
   ]
  },
  {
   "cell_type": "markdown",
   "metadata": {},
   "source": [
    "###  Import the required libraries \n",
    "<hr style=\"border:1px solid #0077b9;\">"
   ]
  },
  {
   "cell_type": "code",
   "execution_count": 1,
   "metadata": {},
   "outputs": [],
   "source": [
    "import wlts"
   ]
  },
  {
   "cell_type": "markdown",
   "metadata": {},
   "source": [
    "#### After that, you can check the installed version of WLTS client package:"
   ]
  },
  {
   "cell_type": "code",
   "execution_count": 2,
   "metadata": {
    "scrolled": true
   },
   "outputs": [
    {
     "data": {
      "text/plain": [
       "'0.2.0'"
      ]
     },
     "execution_count": 2,
     "metadata": {},
     "output_type": "execute_result"
    }
   ],
   "source": [
    "wlts.__version__"
   ]
  },
  {
   "cell_type": "markdown",
   "metadata": {},
   "source": [
    "#### Create WLTS object by passing the URL of WLTS service."
   ]
  },
  {
   "cell_type": "code",
   "execution_count": 5,
   "metadata": {},
   "outputs": [],
   "source": [
    "service = wlts.WLTS('http://brazildatacube.dpi.inpe.br/dev/wlts')"
   ]
  },
  {
   "cell_type": "markdown",
   "metadata": {},
   "source": [
    "###  WLTS operations\n",
    "<hr style=\"border:1px solid #0077b9;\">"
   ]
  },
  {
   "cell_type": "markdown",
   "metadata": {},
   "source": [
    "#### Retrive the collections avaliable in WLTS"
   ]
  },
  {
   "cell_type": "code",
   "execution_count": 6,
   "metadata": {},
   "outputs": [
    {
     "name": "stdout",
     "output_type": "stream",
     "text": [
      "['deter_amz_legal', 'deter_cerrado', 'prodes_cerrado', 'terraclass_amz', 'prodes_amz_legal', 'mapbiomas_amz_4_1', 'mapbiomas_cerrado_4_1', 'mapbiomas_caatinga_4_1']\n"
     ]
    }
   ],
   "source": [
    "print(service.collections)"
   ]
  },
  {
   "cell_type": "markdown",
   "metadata": {},
   "source": [
    "#### Retrive metadata of a givin collection"
   ]
  },
  {
   "cell_type": "code",
   "execution_count": 10,
   "metadata": {},
   "outputs": [
    {
     "data": {
      "text/plain": [
       "{'collection_type': 'Feature',\n",
       " 'description': 'Desmatamento Cerrado',\n",
       " 'detail': 'http://www.obt.inpe.br/OBT/assuntos/programas/amazonia/prodes',\n",
       " 'name': 'prodes_cerrado',\n",
       " 'period': {'end_date': '2019', 'start_date': '2000'},\n",
       " 'resolution_unit': {'unit': 'YEAR', 'value': '1'},\n",
       " 'spatial_extent': {'xmax': -24.6851196289062,\n",
       "  'xmin': -60.0939559936523,\n",
       "  'ymax': -2.32670903205872,\n",
       "  'ymin': -41.5224685668945}}"
      ]
     },
     "execution_count": 10,
     "metadata": {},
     "output_type": "execute_result"
    }
   ],
   "source": [
    "service['prodes_cerrado']"
   ]
  },
  {
   "cell_type": "markdown",
   "metadata": {},
   "source": [
    "### Examples o Land Use and Cover Trajectory using WLTS"
   ]
  },
  {
   "cell_type": "markdown",
   "metadata": {},
   "source": [
    "#### Import pandas library"
   ]
  },
  {
   "cell_type": "code",
   "execution_count": 11,
   "metadata": {},
   "outputs": [],
   "source": [
    "import pandas as pd"
   ]
  },
  {
   "cell_type": "markdown",
   "metadata": {},
   "source": [
    "### Exemple of trajectory at location latitude -8.706 and longitude -64.285"
   ]
  },
  {
   "cell_type": "code",
   "execution_count": 14,
   "metadata": {},
   "outputs": [],
   "source": [
    "tj = service.tj(latitude=-12.0, longitude=-54.0, collections='mapbiomas_amz_4_1')"
   ]
  },
  {
   "cell_type": "code",
   "execution_count": 16,
   "metadata": {},
   "outputs": [
    {
     "data": {
      "text/html": [
       "<div>\n",
       "<style scoped>\n",
       "    .dataframe tbody tr th:only-of-type {\n",
       "        vertical-align: middle;\n",
       "    }\n",
       "\n",
       "    .dataframe tbody tr th {\n",
       "        vertical-align: top;\n",
       "    }\n",
       "\n",
       "    .dataframe thead th {\n",
       "        text-align: right;\n",
       "    }\n",
       "</style>\n",
       "<table border=\"1\" class=\"dataframe\">\n",
       "  <thead>\n",
       "    <tr style=\"text-align: right;\">\n",
       "      <th></th>\n",
       "      <th>class</th>\n",
       "      <th>collection</th>\n",
       "      <th>date</th>\n",
       "    </tr>\n",
       "  </thead>\n",
       "  <tbody>\n",
       "    <tr>\n",
       "      <th>0</th>\n",
       "      <td>Formação Florestal</td>\n",
       "      <td>mapbiomas_amz_4_1</td>\n",
       "      <td>2007</td>\n",
       "    </tr>\n",
       "    <tr>\n",
       "      <th>1</th>\n",
       "      <td>Formação Florestal</td>\n",
       "      <td>mapbiomas_amz_4_1</td>\n",
       "      <td>2008</td>\n",
       "    </tr>\n",
       "    <tr>\n",
       "      <th>2</th>\n",
       "      <td>Formação Florestal</td>\n",
       "      <td>mapbiomas_amz_4_1</td>\n",
       "      <td>2009</td>\n",
       "    </tr>\n",
       "    <tr>\n",
       "      <th>3</th>\n",
       "      <td>Formação Florestal</td>\n",
       "      <td>mapbiomas_amz_4_1</td>\n",
       "      <td>2010</td>\n",
       "    </tr>\n",
       "    <tr>\n",
       "      <th>4</th>\n",
       "      <td>Formação Florestal</td>\n",
       "      <td>mapbiomas_amz_4_1</td>\n",
       "      <td>2011</td>\n",
       "    </tr>\n",
       "    <tr>\n",
       "      <th>5</th>\n",
       "      <td>Formação Florestal</td>\n",
       "      <td>mapbiomas_amz_4_1</td>\n",
       "      <td>2012</td>\n",
       "    </tr>\n",
       "    <tr>\n",
       "      <th>6</th>\n",
       "      <td>Formação Florestal</td>\n",
       "      <td>mapbiomas_amz_4_1</td>\n",
       "      <td>2013</td>\n",
       "    </tr>\n",
       "    <tr>\n",
       "      <th>7</th>\n",
       "      <td>Formação Florestal</td>\n",
       "      <td>mapbiomas_amz_4_1</td>\n",
       "      <td>2014</td>\n",
       "    </tr>\n",
       "    <tr>\n",
       "      <th>8</th>\n",
       "      <td>Formação Florestal</td>\n",
       "      <td>mapbiomas_amz_4_1</td>\n",
       "      <td>2015</td>\n",
       "    </tr>\n",
       "    <tr>\n",
       "      <th>9</th>\n",
       "      <td>Formação Florestal</td>\n",
       "      <td>mapbiomas_amz_4_1</td>\n",
       "      <td>2016</td>\n",
       "    </tr>\n",
       "    <tr>\n",
       "      <th>10</th>\n",
       "      <td>Formação Florestal</td>\n",
       "      <td>mapbiomas_amz_4_1</td>\n",
       "      <td>2017</td>\n",
       "    </tr>\n",
       "    <tr>\n",
       "      <th>11</th>\n",
       "      <td>Formação Florestal</td>\n",
       "      <td>mapbiomas_amz_4_1</td>\n",
       "      <td>2018</td>\n",
       "    </tr>\n",
       "  </tbody>\n",
       "</table>\n",
       "</div>"
      ],
      "text/plain": [
       "                 class         collection  date\n",
       "0   Formação Florestal  mapbiomas_amz_4_1  2007\n",
       "1   Formação Florestal  mapbiomas_amz_4_1  2008\n",
       "2   Formação Florestal  mapbiomas_amz_4_1  2009\n",
       "3   Formação Florestal  mapbiomas_amz_4_1  2010\n",
       "4   Formação Florestal  mapbiomas_amz_4_1  2011\n",
       "5   Formação Florestal  mapbiomas_amz_4_1  2012\n",
       "6   Formação Florestal  mapbiomas_amz_4_1  2013\n",
       "7   Formação Florestal  mapbiomas_amz_4_1  2014\n",
       "8   Formação Florestal  mapbiomas_amz_4_1  2015\n",
       "9   Formação Florestal  mapbiomas_amz_4_1  2016\n",
       "10  Formação Florestal  mapbiomas_amz_4_1  2017\n",
       "11  Formação Florestal  mapbiomas_amz_4_1  2018"
      ]
     },
     "execution_count": 16,
     "metadata": {},
     "output_type": "execute_result"
    }
   ],
   "source": [
    "tj.df()"
   ]
  },
  {
   "cell_type": "code",
   "execution_count": 17,
   "metadata": {},
   "outputs": [],
   "source": [
    "trajetoria_two = service.tj(latitude=-4.090, longitude=-63.353, collections='mapbiomas_amz_4_1')"
   ]
  },
  {
   "cell_type": "code",
   "execution_count": 18,
   "metadata": {},
   "outputs": [
    {
     "data": {
      "text/html": [
       "<div>\n",
       "<style scoped>\n",
       "    .dataframe tbody tr th:only-of-type {\n",
       "        vertical-align: middle;\n",
       "    }\n",
       "\n",
       "    .dataframe tbody tr th {\n",
       "        vertical-align: top;\n",
       "    }\n",
       "\n",
       "    .dataframe thead th {\n",
       "        text-align: right;\n",
       "    }\n",
       "</style>\n",
       "<table border=\"1\" class=\"dataframe\">\n",
       "  <thead>\n",
       "    <tr style=\"text-align: right;\">\n",
       "      <th></th>\n",
       "      <th>class</th>\n",
       "      <th>collection</th>\n",
       "      <th>date</th>\n",
       "    </tr>\n",
       "  </thead>\n",
       "  <tbody>\n",
       "    <tr>\n",
       "      <th>0</th>\n",
       "      <td>Rio, Lago e Oceano</td>\n",
       "      <td>mapbiomas_amz_4_1</td>\n",
       "      <td>2007</td>\n",
       "    </tr>\n",
       "    <tr>\n",
       "      <th>1</th>\n",
       "      <td>Rio, Lago e Oceano</td>\n",
       "      <td>mapbiomas_amz_4_1</td>\n",
       "      <td>2008</td>\n",
       "    </tr>\n",
       "    <tr>\n",
       "      <th>2</th>\n",
       "      <td>Rio, Lago e Oceano</td>\n",
       "      <td>mapbiomas_amz_4_1</td>\n",
       "      <td>2009</td>\n",
       "    </tr>\n",
       "    <tr>\n",
       "      <th>3</th>\n",
       "      <td>Rio, Lago e Oceano</td>\n",
       "      <td>mapbiomas_amz_4_1</td>\n",
       "      <td>2010</td>\n",
       "    </tr>\n",
       "    <tr>\n",
       "      <th>4</th>\n",
       "      <td>Rio, Lago e Oceano</td>\n",
       "      <td>mapbiomas_amz_4_1</td>\n",
       "      <td>2011</td>\n",
       "    </tr>\n",
       "    <tr>\n",
       "      <th>5</th>\n",
       "      <td>Rio, Lago e Oceano</td>\n",
       "      <td>mapbiomas_amz_4_1</td>\n",
       "      <td>2012</td>\n",
       "    </tr>\n",
       "    <tr>\n",
       "      <th>6</th>\n",
       "      <td>Rio, Lago e Oceano</td>\n",
       "      <td>mapbiomas_amz_4_1</td>\n",
       "      <td>2013</td>\n",
       "    </tr>\n",
       "    <tr>\n",
       "      <th>7</th>\n",
       "      <td>Rio, Lago e Oceano</td>\n",
       "      <td>mapbiomas_amz_4_1</td>\n",
       "      <td>2014</td>\n",
       "    </tr>\n",
       "    <tr>\n",
       "      <th>8</th>\n",
       "      <td>Rio, Lago e Oceano</td>\n",
       "      <td>mapbiomas_amz_4_1</td>\n",
       "      <td>2015</td>\n",
       "    </tr>\n",
       "    <tr>\n",
       "      <th>9</th>\n",
       "      <td>Rio, Lago e Oceano</td>\n",
       "      <td>mapbiomas_amz_4_1</td>\n",
       "      <td>2016</td>\n",
       "    </tr>\n",
       "    <tr>\n",
       "      <th>10</th>\n",
       "      <td>Rio, Lago e Oceano</td>\n",
       "      <td>mapbiomas_amz_4_1</td>\n",
       "      <td>2017</td>\n",
       "    </tr>\n",
       "    <tr>\n",
       "      <th>11</th>\n",
       "      <td>Rio, Lago e Oceano</td>\n",
       "      <td>mapbiomas_amz_4_1</td>\n",
       "      <td>2018</td>\n",
       "    </tr>\n",
       "  </tbody>\n",
       "</table>\n",
       "</div>"
      ],
      "text/plain": [
       "                 class         collection  date\n",
       "0   Rio, Lago e Oceano  mapbiomas_amz_4_1  2007\n",
       "1   Rio, Lago e Oceano  mapbiomas_amz_4_1  2008\n",
       "2   Rio, Lago e Oceano  mapbiomas_amz_4_1  2009\n",
       "3   Rio, Lago e Oceano  mapbiomas_amz_4_1  2010\n",
       "4   Rio, Lago e Oceano  mapbiomas_amz_4_1  2011\n",
       "5   Rio, Lago e Oceano  mapbiomas_amz_4_1  2012\n",
       "6   Rio, Lago e Oceano  mapbiomas_amz_4_1  2013\n",
       "7   Rio, Lago e Oceano  mapbiomas_amz_4_1  2014\n",
       "8   Rio, Lago e Oceano  mapbiomas_amz_4_1  2015\n",
       "9   Rio, Lago e Oceano  mapbiomas_amz_4_1  2016\n",
       "10  Rio, Lago e Oceano  mapbiomas_amz_4_1  2017\n",
       "11  Rio, Lago e Oceano  mapbiomas_amz_4_1  2018"
      ]
     },
     "execution_count": 18,
     "metadata": {},
     "output_type": "execute_result"
    }
   ],
   "source": [
    "trajetoria_two.df()"
   ]
  },
  {
   "cell_type": "code",
   "execution_count": 19,
   "metadata": {},
   "outputs": [
    {
     "data": {
      "text/html": [
       "<div>\n",
       "<style scoped>\n",
       "    .dataframe tbody tr th:only-of-type {\n",
       "        vertical-align: middle;\n",
       "    }\n",
       "\n",
       "    .dataframe tbody tr th {\n",
       "        vertical-align: top;\n",
       "    }\n",
       "\n",
       "    .dataframe thead th {\n",
       "        text-align: right;\n",
       "    }\n",
       "</style>\n",
       "<table border=\"1\" class=\"dataframe\">\n",
       "  <thead>\n",
       "    <tr style=\"text-align: right;\">\n",
       "      <th></th>\n",
       "      <th>class</th>\n",
       "      <th>collection</th>\n",
       "      <th>date</th>\n",
       "    </tr>\n",
       "  </thead>\n",
       "  <tbody>\n",
       "    <tr>\n",
       "      <th>0</th>\n",
       "      <td>Pastagem</td>\n",
       "      <td>mapbiomas_amz_4_1</td>\n",
       "      <td>2007</td>\n",
       "    </tr>\n",
       "    <tr>\n",
       "      <th>1</th>\n",
       "      <td>Pastagem</td>\n",
       "      <td>mapbiomas_amz_4_1</td>\n",
       "      <td>2008</td>\n",
       "    </tr>\n",
       "    <tr>\n",
       "      <th>2</th>\n",
       "      <td>Pastagem</td>\n",
       "      <td>mapbiomas_amz_4_1</td>\n",
       "      <td>2009</td>\n",
       "    </tr>\n",
       "    <tr>\n",
       "      <th>3</th>\n",
       "      <td>Pastagem</td>\n",
       "      <td>mapbiomas_amz_4_1</td>\n",
       "      <td>2010</td>\n",
       "    </tr>\n",
       "    <tr>\n",
       "      <th>4</th>\n",
       "      <td>Pastagem</td>\n",
       "      <td>mapbiomas_amz_4_1</td>\n",
       "      <td>2011</td>\n",
       "    </tr>\n",
       "    <tr>\n",
       "      <th>5</th>\n",
       "      <td>Pastagem</td>\n",
       "      <td>mapbiomas_amz_4_1</td>\n",
       "      <td>2012</td>\n",
       "    </tr>\n",
       "    <tr>\n",
       "      <th>6</th>\n",
       "      <td>Pastagem</td>\n",
       "      <td>mapbiomas_amz_4_1</td>\n",
       "      <td>2013</td>\n",
       "    </tr>\n",
       "    <tr>\n",
       "      <th>7</th>\n",
       "      <td>Pastagem</td>\n",
       "      <td>mapbiomas_amz_4_1</td>\n",
       "      <td>2014</td>\n",
       "    </tr>\n",
       "    <tr>\n",
       "      <th>8</th>\n",
       "      <td>Pastagem</td>\n",
       "      <td>mapbiomas_amz_4_1</td>\n",
       "      <td>2015</td>\n",
       "    </tr>\n",
       "    <tr>\n",
       "      <th>9</th>\n",
       "      <td>Pastagem</td>\n",
       "      <td>mapbiomas_amz_4_1</td>\n",
       "      <td>2016</td>\n",
       "    </tr>\n",
       "    <tr>\n",
       "      <th>10</th>\n",
       "      <td>Cultura Anual e Perene</td>\n",
       "      <td>mapbiomas_amz_4_1</td>\n",
       "      <td>2017</td>\n",
       "    </tr>\n",
       "    <tr>\n",
       "      <th>11</th>\n",
       "      <td>Cultura Anual e Perene</td>\n",
       "      <td>mapbiomas_amz_4_1</td>\n",
       "      <td>2018</td>\n",
       "    </tr>\n",
       "  </tbody>\n",
       "</table>\n",
       "</div>"
      ],
      "text/plain": [
       "                     class         collection  date\n",
       "0                 Pastagem  mapbiomas_amz_4_1  2007\n",
       "1                 Pastagem  mapbiomas_amz_4_1  2008\n",
       "2                 Pastagem  mapbiomas_amz_4_1  2009\n",
       "3                 Pastagem  mapbiomas_amz_4_1  2010\n",
       "4                 Pastagem  mapbiomas_amz_4_1  2011\n",
       "5                 Pastagem  mapbiomas_amz_4_1  2012\n",
       "6                 Pastagem  mapbiomas_amz_4_1  2013\n",
       "7                 Pastagem  mapbiomas_amz_4_1  2014\n",
       "8                 Pastagem  mapbiomas_amz_4_1  2015\n",
       "9                 Pastagem  mapbiomas_amz_4_1  2016\n",
       "10  Cultura Anual e Perene  mapbiomas_amz_4_1  2017\n",
       "11  Cultura Anual e Perene  mapbiomas_amz_4_1  2018"
      ]
     },
     "execution_count": 19,
     "metadata": {},
     "output_type": "execute_result"
    }
   ],
   "source": [
    "trajetoria_three = service.tj(latitude=-10.710, longitude=-55.612, collections='mapbiomas_amz_4_1')\n",
    "trajetoria_three.df()"
   ]
  }
 ],
 "metadata": {
  "celltoolbar": "Raw Cell Format",
  "kernelspec": {
   "display_name": "Python 3",
   "language": "python",
   "name": "python3"
  },
  "language_info": {
   "codemirror_mode": {
    "name": "ipython",
    "version": 3
   },
   "file_extension": ".py",
   "mimetype": "text/x-python",
   "name": "python",
   "nbconvert_exporter": "python",
   "pygments_lexer": "ipython3",
   "version": "3.8.5"
  }
 },
 "nbformat": 4,
 "nbformat_minor": 2
}
